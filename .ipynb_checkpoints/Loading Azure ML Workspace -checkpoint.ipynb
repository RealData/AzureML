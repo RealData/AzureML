{
 "cells": [
  {
   "cell_type": "markdown",
   "metadata": {},
   "source": [
    "# LOADING AZURE ML WORKSPACE "
   ]
  },
  {
   "cell_type": "markdown",
   "metadata": {},
   "source": [
    "There are several ways to load existing workspace: "
   ]
  },
  {
   "cell_type": "code",
   "execution_count": null,
   "metadata": {},
   "outputs": [],
   "source": [
    "from azureml.core import Workspace "
   ]
  },
  {
   "cell_type": "markdown",
   "metadata": {},
   "source": [
    "## 1 Workspace.get() "
   ]
  },
  {
   "cell_type": "code",
   "execution_count": null,
   "metadata": {},
   "outputs": [],
   "source": [
    "ws = Workspace.get(\n",
    "    name = 'NewWorkspace', \n",
    "    subscription_id = 'f0ead8e9-14fb-4521-b2cb-4378927736a8', \n",
    "    resource_group = 'ML_RESOURCE_GROUP'\n",
    ") "
   ]
  },
  {
   "cell_type": "code",
   "execution_count": null,
   "metadata": {},
   "outputs": [],
   "source": [
    "print(ws.get_details()) "
   ]
  },
  {
   "cell_type": "markdown",
   "metadata": {},
   "source": [
    "## 2 Load from `config` file "
   ]
  },
  {
   "cell_type": "markdown",
   "metadata": {},
   "source": [
    "Workspace configuration file can be created with `ws.write_config(path, file_name)` command and has format: \n",
    "```\n",
    "{  \n",
    "     \"subscription_id\": \"f0ead8e9-14fb-4521-b2cb-4378927736a8\",  \n",
    "     \"resource_group\": \"ML_RESOURCE_GROUP\",  \n",
    "     \"workspace_name\": \"NewWorkspace\"  \n",
    "}  \n",
    "```"
   ]
  },
  {
   "cell_type": "code",
   "execution_count": null,
   "metadata": {},
   "outputs": [],
   "source": [
    "ws = Workspace.from_config() "
   ]
  },
  {
   "cell_type": "code",
   "execution_count": null,
   "metadata": {},
   "outputs": [],
   "source": [
    "print(ws.get_details()) "
   ]
  },
  {
   "cell_type": "markdown",
   "metadata": {},
   "source": [
    "## 3 Workspace constructor "
   ]
  },
  {
   "cell_type": "code",
   "execution_count": null,
   "metadata": {},
   "outputs": [],
   "source": [
    "ws = Workspace(\n",
    "    workspace_name = 'NewWorkspace', \n",
    "    subscription_id = 'f0ead8e9-14fb-4521-b2cb-4378927736a8',\n",
    "    resource_group = 'ML_RESOURCE_GROUP'\n",
    ") "
   ]
  },
  {
   "cell_type": "code",
   "execution_count": null,
   "metadata": {},
   "outputs": [],
   "source": [
    "print(ws.get_details()) "
   ]
  },
  {
   "cell_type": "markdown",
   "metadata": {},
   "source": [
    "## 4 Workspace.create() "
   ]
  },
  {
   "cell_type": "markdown",
   "metadata": {},
   "source": [
    "If Workspace with the same parameters is already exists and `exist_ok = True` function `Workspace.create()` will load this Workspace: "
   ]
  },
  {
   "cell_type": "code",
   "execution_count": null,
   "metadata": {},
   "outputs": [],
   "source": [
    "ws = Workspace.create(\n",
    "    name = 'NewWorkspace', \n",
    "    #auth = AUTH, \n",
    "    subscription_id = SUBSCRIPTION_ID, \n",
    "    resource_group = 'ML_RESOURCE_GROUP', \n",
    "    location = 'eastus2', \n",
    "    create_resource_group = True, \n",
    "    exist_ok = True\n",
    ") "
   ]
  },
  {
   "cell_type": "code",
   "execution_count": null,
   "metadata": {},
   "outputs": [],
   "source": [
    "print(ws.get_details()) "
   ]
  },
  {
   "cell_type": "code",
   "execution_count": null,
   "metadata": {},
   "outputs": [],
   "source": []
  }
 ],
 "metadata": {
  "kernelspec": {
   "display_name": "Python [conda env:AzurePython]",
   "language": "python",
   "name": "conda-env-AzurePython-py"
  }
 },
 "nbformat": 4,
 "nbformat_minor": 2
}
