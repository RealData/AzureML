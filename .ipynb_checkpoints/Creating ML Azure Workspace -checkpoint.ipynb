{
 "cells": [
  {
   "cell_type": "markdown",
   "metadata": {},
   "source": [
    "# CREATING AZURE ML WORKSPACE "
   ]
  },
  {
   "cell_type": "code",
   "execution_count": null,
   "metadata": {},
   "outputs": [],
   "source": [
    "SUBSCRIPTION_ID = 'f0ead8e9-14fb-4521-b2cb-4378927736a8' "
   ]
  },
  {
   "cell_type": "code",
   "execution_count": null,
   "metadata": {},
   "outputs": [],
   "source": [
    "import azureml.core \n",
    "from azureml.core import Workspace "
   ]
  },
  {
   "cell_type": "markdown",
   "metadata": {},
   "source": [
    "Workspace is defined by name, subscription_id and resource_group. The resource group can be created simultaneously with creating workspace if does not exist. Will return workspace if it already exist and `exist_ok = True` "
   ]
  },
  {
   "cell_type": "code",
   "execution_count": null,
   "metadata": {},
   "outputs": [],
   "source": [
    "ws = Workspace.create(\n",
    "    name = 'NewWorkspace', \n",
    "    #auth = AUTH, \n",
    "    subscription_id = SUBSCRIPTION_ID, \n",
    "    resource_group = 'ML_RESOURCE_GROUP', \n",
    "    location = 'eastus2', \n",
    "    create_resource_group = True, \n",
    "    exist_ok = True\n",
    ") "
   ]
  },
  {
   "cell_type": "code",
   "execution_count": null,
   "metadata": {},
   "outputs": [],
   "source": []
  },
  {
   "cell_type": "code",
   "execution_count": null,
   "metadata": {},
   "outputs": [],
   "source": [
    "print(ws.get_details()) "
   ]
  },
  {
   "cell_type": "markdown",
   "metadata": {},
   "source": [
    "To reuse workspace parameters, the configuration file can be written: "
   ]
  },
  {
   "cell_type": "code",
   "execution_count": null,
   "metadata": {},
   "outputs": [],
   "source": [
    "ws.write_config(path = '.', file_name = 'NewWorkspace.json') # default file_name = 'config.json' "
   ]
  },
  {
   "cell_type": "markdown",
   "metadata": {},
   "source": [
    "It is written into `aml_config` folder and has format:  \n",
    "```\n",
    "{  \n",
    "     \"subscription_id\": \"f0ead8e9-14fb-4521-b2cb-4378927736a8\",  \n",
    "     \"resource_group\": \"ML_RESOURCE_GROUP\",  \n",
    "     \"workspace_name\": \"NewWorkspace\"  \n",
    "}  \n",
    "```"
   ]
  },
  {
   "cell_type": "markdown",
   "metadata": {},
   "source": [
    "The configuration can be read from the file: \n",
    "```\n",
    "ws = from_config(path = , auth = )  \n",
    "```"
   ]
  },
  {
   "cell_type": "code",
   "execution_count": null,
   "metadata": {},
   "outputs": [],
   "source": []
  },
  {
   "cell_type": "code",
   "execution_count": null,
   "metadata": {},
   "outputs": [],
   "source": []
  },
  {
   "cell_type": "code",
   "execution_count": null,
   "metadata": {},
   "outputs": [],
   "source": []
  }
 ],
 "metadata": {
  "kernelspec": {
   "display_name": "Python [conda env:AzurePython]",
   "language": "python",
   "name": "conda-env-AzurePython-py"
  },
  "language_info": {
   "codemirror_mode": {
    "name": "ipython",
    "version": 3
   },
   "file_extension": ".py",
   "mimetype": "text/x-python",
   "name": "python",
   "nbconvert_exporter": "python",
   "pygments_lexer": "ipython3",
   "version": "3.7.1"
  }
 },
 "nbformat": 4,
 "nbformat_minor": 2
}
